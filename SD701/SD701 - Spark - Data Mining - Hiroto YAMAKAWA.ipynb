{
 "cells": [
  {
   "cell_type": "code",
   "execution_count": 1,
   "metadata": {},
   "outputs": [],
   "source": [
    "import findspark\n",
    "findspark.init(\"/home/yamhiroto/spark-2.3.4-bin-hadoop2.7\")\n",
    "\n",
    "import os\n",
    "import sys\n",
    "import re\n",
    "from pyspark import SparkContext\n",
    "from pyspark import SparkContext\n",
    "from pyspark.sql import SQLContext\n",
    "from pyspark.sql import SparkSession\n",
    "from pyspark.sql.types import *\n",
    "from pyspark.sql import Row\n",
    "from pyspark.sql.functions import *\n",
    "%matplotlib inline\n",
    "import matplotlib.pyplot as plt\n",
    "import pandas as pd\n",
    "import numpy as np\n",
    "import pyspark.sql.functions as func\n",
    "import matplotlib.patches as mpatches\n",
    "import time as time\n",
    "from matplotlib.patches import Rectangle\n",
    "import datetime\n"
   ]
  },
  {
   "cell_type": "markdown",
   "metadata": {},
   "source": [
    "### Problem Definition\n",
    "\n",
    "The dataset I use is collected from The U.S. Department of Transportation’s (DOT) Bureau of Transportation Statistics, which contains more than 5 million records of the flights’ information during 2015, including the carrier of the airline, the original airport, destination airport, the distance of the flight, the time spent, the departure delay time, and arrival delay time, etc. \n",
    "\n",
    "I will use this dataset to train a model to predict if a flight will be delayed or not. "
   ]
  },
  {
   "cell_type": "code",
   "execution_count": 3,
   "metadata": {},
   "outputs": [],
   "source": [
    "# Instantiate a spark session\n",
    "sc = SparkContext()\n",
    "spark = SparkSession.builder.master('local[*]').appName('flights_delay').config('spark.driver.memory', '8g').getOrCreate()"
   ]
  },
  {
   "cell_type": "markdown",
   "metadata": {},
   "source": [
    "### DATA CLEANING"
   ]
  },
  {
   "cell_type": "code",
   "execution_count": 80,
   "metadata": {},
   "outputs": [],
   "source": [
    "# load raw data\n",
    "df = spark.read.csv('datasets/flights.csv', header=True,\n",
    "                    inferSchema=True, nullValue='')"
   ]
  },
  {
   "cell_type": "code",
   "execution_count": 81,
   "metadata": {},
   "outputs": [
    {
     "data": {
      "text/plain": [
       "['YEAR',\n",
       " 'MONTH',\n",
       " 'DAY',\n",
       " 'DAY_OF_WEEK',\n",
       " 'AIRLINE',\n",
       " 'FLIGHT_NUMBER',\n",
       " 'TAIL_NUMBER',\n",
       " 'ORIGIN_AIRPORT',\n",
       " 'DESTINATION_AIRPORT',\n",
       " 'SCHEDULED_DEPARTURE',\n",
       " 'DEPARTURE_TIME',\n",
       " 'DEPARTURE_DELAY',\n",
       " 'TAXI_OUT',\n",
       " 'WHEELS_OFF',\n",
       " 'SCHEDULED_TIME',\n",
       " 'ELAPSED_TIME',\n",
       " 'AIR_TIME',\n",
       " 'DISTANCE',\n",
       " 'WHEELS_ON',\n",
       " 'TAXI_IN',\n",
       " 'SCHEDULED_ARRIVAL',\n",
       " 'ARRIVAL_TIME',\n",
       " 'ARRIVAL_DELAY',\n",
       " 'DIVERTED',\n",
       " 'CANCELLED',\n",
       " 'CANCELLATION_REASON',\n",
       " 'AIR_SYSTEM_DELAY',\n",
       " 'SECURITY_DELAY',\n",
       " 'AIRLINE_DELAY',\n",
       " 'LATE_AIRCRAFT_DELAY',\n",
       " 'WEATHER_DELAY']"
      ]
     },
     "execution_count": 81,
     "metadata": {},
     "output_type": "execute_result"
    }
   ],
   "source": [
    "df.columns"
   ]
  },
  {
   "cell_type": "code",
   "execution_count": 82,
   "metadata": {},
   "outputs": [],
   "source": [
    "\n",
    "selected_columns= ['MONTH', 'DAY', 'DAY_OF_WEEK', 'AIRLINE', 'FLIGHT_NUMBER',\n",
    "           'ORIGIN_AIRPORT', 'DESTINATION_AIRPORT', 'TAXI_OUT',\n",
    "           'SCHEDULED_DEPARTURE', 'DEPARTURE_DELAY', 'DISTANCE',\n",
    "           'SCHEDULED_ARRIVAL', 'ARRIVAL_DELAY']\n",
    "\n",
    "df = df.select(selected_columns)\n",
    "\n",
    "df = df.dropna()"
   ]
  },
  {
   "cell_type": "code",
   "execution_count": null,
   "metadata": {},
   "outputs": [],
   "source": [
    "df.groupBy('label').count().collect()"
   ]
  },
  {
   "cell_type": "code",
   "execution_count": 83,
   "metadata": {},
   "outputs": [
    {
     "data": {
      "text/plain": [
       "5714008"
      ]
     },
     "execution_count": 83,
     "metadata": {},
     "output_type": "execute_result"
    }
   ],
   "source": [
    "df.count()"
   ]
  },
  {
   "cell_type": "markdown",
   "metadata": {},
   "source": [
    "### DATA ANALYSIS"
   ]
  },
  {
   "cell_type": "code",
   "execution_count": 84,
   "metadata": {},
   "outputs": [
    {
     "name": "stdout",
     "output_type": "stream",
     "text": [
      "number of origin airports  628\n",
      "number of destination airports  628\n",
      "number of carrier 14\n",
      "the number of night flights: 1221750\n"
     ]
    }
   ],
   "source": [
    "#number of origin airports and destination airports\n",
    "num_src_airport = df.select('ORIGIN_AIRPORT').distinct().count()\n",
    "num_dest_airport = df.select('DESTINATION_AIRPORT').distinct().count()\n",
    "print(\"number of origin airports \", num_src_airport)\n",
    "print(\"number of destination airports \", num_src_airport)\n",
    "\n",
    "#number of carrier\n",
    "num_carrier =df.select('AIRLINE').distinct().count()\n",
    "print(\"number of carrier\", num_carrier)\n",
    "\n",
    "#number of night flight in 2015\n",
    "night_flights = df.filter(df.SCHEDULED_DEPARTURE>1800).distinct().count()\n",
    "print(\"the number of night flights:\", night_flights)\n"
   ]
  },
  {
   "cell_type": "code",
   "execution_count": 94,
   "metadata": {
    "scrolled": false
   },
   "outputs": [],
   "source": [
    "#number of flight per month in 2015\n",
    "statistic_month = df.groupBy(\"month\").count().collect()\n",
    "\n",
    "# calculate the delay ratio each month\n",
    "statistic_month_delay = df.groupBy(\"month\")\\\n",
    "                                .agg((func.sum('label')/count('*'))\\\n",
    "                                .alias('delay_ratio')).orderBy(\"month\").collect()"
   ]
  },
  {
   "cell_type": "code",
   "execution_count": 95,
   "metadata": {},
   "outputs": [
    {
     "data": {
      "image/png": "[encoded data removed]",
      "text/plain": [
       "<Figure size 432x288 with 1 Axes>"
      ]
     },
     "metadata": {
      "needs_background": "light"
     },
     "output_type": "display_data"
    },
    {
     "data": {
      "image/png": "[encoded data removed]",
      "text/plain": [
       "<Figure size 432x288 with 1 Axes>"
      ]
     },
     "metadata": {
      "needs_background": "light"
     },
     "output_type": "display_data"
    }
   ],
   "source": [
    "#plot graph\n",
    "\n",
    "pdf = pd.DataFrame(data=statistic_month).sort_values(by=0, ascending = True) #by=0 to choose column with months\n",
    "plt.xlabel(\"Months\")\n",
    "plt.ylabel(\"Number of flights\")\n",
    "plt.title('Number of flight per month in 2015')\n",
    "plt.grid(True,which=\"both\",ls=\"-\")\n",
    "plt.plot(pdf[0], pdf[1])\n",
    "plt.xlim(1,12)\n",
    "plt.xticks(range(1,13), [\"Jan\", \"Feb\", \"Mar\", \"Apr\", \"May\", \"Jun\", \"Jul\", \"Aug\", \"Sep\", \"Oct\", \"Nov\", \"Dec\"])\n",
    "plt.show()\n",
    "\n",
    "\n",
    "pdf_month = pd.DataFrame(data=statistic_month_delay)\n",
    "plt.bar(pdf_month[0], pdf_month[1], align=\"center\", alpha=0.4)\n",
    "plt.grid(True,which=\"both\",ls=\"-\")\n",
    "plt.xlabel(\"Month\")\n",
    "plt.ylabel(\"Ratio of delay\")\n",
    "plt.xlim(1,12)\n",
    "plt.title('Delay ratio per month in 2015')\n",
    "plt.xticks(range(1,13), [\"Jan\", \"Feb\", \"Mar\", \"Apr\", \"May\", \"Jun\", \"Jul\", \"Aug\", \"Sep\", \"Oct\", \"Nov\", \"Dec\"])\n",
    "plt.show()"
   ]
  },
  {
   "cell_type": "markdown",
   "metadata": {},
   "source": [
    "**Comments** Peaks are in June, July, August (Summer holiday) and December-January (Winter Holiday)"
   ]
  },
  {
   "cell_type": "code",
   "execution_count": 96,
   "metadata": {},
   "outputs": [],
   "source": [
    "#number of flight per day of the week \n",
    "statistic_day_of_week = df.groupBy(\"DAY_OF_WEEK\").count().collect()\n",
    "\n",
    "\n",
    "# calculate the delay ratio in each day of week\n",
    "statistic_day_of_week_delay = (df.groupBy(\"DAY_OF_WEEK\")\\\n",
    "                         .agg((sum('label')/count('*')).alias('delay_ratio'))\\\n",
    "                         .orderBy(\"DAY_OF_WEEK\").collect()\\\n",
    "                        )\n"
   ]
  },
  {
   "cell_type": "code",
   "execution_count": 97,
   "metadata": {},
   "outputs": [
    {
     "data": {
      "image/png": "[encoded data removed]",
      "text/plain": [
       "<Figure size 432x288 with 1 Axes>"
      ]
     },
     "metadata": {
      "needs_background": "light"
     },
     "output_type": "display_data"
    },
    {
     "data": {
      "image/png": "[encoded data removed]",
      "text/plain": [
       "<Figure size 432x288 with 1 Axes>"
      ]
     },
     "metadata": {
      "needs_background": "light"
     },
     "output_type": "display_data"
    }
   ],
   "source": [
    "# collect data and plot\n",
    "pdf = pd.DataFrame(data=statistic_day_of_week)\n",
    "plt.xlabel(\"Days of week\")\n",
    "plt.ylabel(\"Number of flights\")\n",
    "plt.title('Number of flight per day of the week ')\n",
    "plt.grid(True,which=\"both\",ls=\"-\")\n",
    "map_int_into_day = { 1:\"Mon\", 2:\"Tue\", 3:\"Wed\", 4:\"Thu\", 5:\"Fri\", 6:\"Sat\", 7:\"Sun\" }\n",
    "day_of_week_label = pdf[0].map(lambda i: map_int_into_day[i])\n",
    "\n",
    "plt.bar(pdf[0], pdf[1], align=\"center\", alpha = 0.4)\n",
    "plt.xticks(pdf[0], day_of_week_label)\n",
    "plt.show()\n",
    "\n",
    "\n",
    "pdf_day_of_week = pd.DataFrame(data=statistic_day_of_week_delay)\n",
    "map_int_into_day = { 1:\"Mon\", 2:\"Tue\", 3:\"Wed\", 4:\"Thu\", 5:\"Fri\", 6:\"Sat\", 7:\"Sun\" }\n",
    "day_of_week_label = pdf_day_of_week[0].map(lambda i: map_int_into_day[i])\n",
    "\n",
    "plt.bar(pdf_day_of_week[0], pdf_day_of_week[1], align=\"center\", alpha=0.4)\n",
    "plt.grid(True,which=\"both\",ls=\"-\")\n",
    "plt.xlabel(\"Day of week\")\n",
    "plt.ylabel(\"delay ratio\")\n",
    "plt.title('delay ratio per day of the week')\n",
    "plt.xticks(pdf_day_of_week[0], day_of_week_label)\n",
    "plt.show()"
   ]
  },
  {
   "cell_type": "code",
   "execution_count": 105,
   "metadata": {
    "scrolled": true
   },
   "outputs": [],
   "source": [
    "stat_carrier = (df\n",
    "                .groupBy(\"AIRLINE\")\n",
    "                .agg(count(\"*\").alias('count'))\n",
    "                .orderBy(desc('count'))\n",
    "                ).collect()\n"
   ]
  },
  {
   "cell_type": "code",
   "execution_count": 106,
   "metadata": {},
   "outputs": [],
   "source": [
    "statistic_ratio_delay_carrier = (df.groupBy(\"AIRLINE\")\\\n",
    "                                 .agg((sum('label')/count('*'))\\\n",
    "                                 .alias('delay_ratio'))\\\n",
    "                                 .orderBy(\"AIRLINE\")\n",
    "                                ).collect()"
   ]
  },
  {
   "cell_type": "code",
   "execution_count": 120,
   "metadata": {},
   "outputs": [
    {
     "name": "stderr",
     "output_type": "stream",
     "text": [
      "/home/yamhiroto/anaconda3/lib/python3.7/site-packages/ipykernel_launcher.py:16: MatplotlibDeprecationWarning: Passing 'normal' to axis() is deprecated since 3.1; use 'auto' instead.\n",
      "  app.launch_new_instance()\n"
     ]
    },
    {
     "data": {
      "image/png": "[encoded data removed]",
      "text/plain": [
       "<Figure size 1440x720 with 2 Axes>"
      ]
     },
     "metadata": {
      "needs_background": "light"
     },
     "output_type": "display_data"
    }
   ],
   "source": [
    "# collect data and plot\n",
    "pdf_ratio_delay_carrier = pd.DataFrame(data=statistic_ratio_delay_carrier)\n",
    "pdf_carrier_volume = pd.DataFrame(data=stat_carrier, columns=['AIRLINE', 'count']).sort_values(by='AIRLINE')\n",
    "\n",
    "#print(pdf_carrier_volume)\n",
    "stat_carrier.sort()\n",
    "index = np.arange(len(stat_carrier))\n",
    "bar_width = 0.2\n",
    "opacity = 0.4\n",
    "\n",
    "\n",
    "fig = plt.figure(figsize=(20,10))                                                             \n",
    "ax = fig.add_subplot(1,1,1)\n",
    "\n",
    "ax2 = ax.twinx()\n",
    "plt.axis('normal')\n",
    "ax.set_xlabel(\"Carrier\")\n",
    "ax.set_ylabel(\"Flight volume\")\n",
    "ax2.set_ylabel(\"Ratio of delay\")\n",
    "plt.xticks(index + bar_width, pdf_carrier_volume.AIRLINE)\n",
    "\n",
    "plt.title('Figure 11.2: The radio of delay over months')\n",
    "plt.grid(True,which=\"both\",ls=\"-\")\n",
    "bar = ax.bar(index, pdf_carrier_volume['count'], \n",
    "        bar_width, color='b', \n",
    "        label='flight volume')\n",
    "bar2 = ax2.bar(index + 1.5*bar_width, pdf_ratio_delay_carrier[1], bar_width, \n",
    "       align='center', color='r', \n",
    "       label='Delay ratio')\n",
    "\n",
    "lines, labels = ax.get_legend_handles_labels()\n",
    "lines2, labels2 = ax2.get_legend_handles_labels()\n",
    "ax2.legend(lines + lines2, labels + labels2, loc=0)\n",
    "\n",
    "plt.tight_layout()\n",
    "plt.show()"
   ]
  },
  {
   "cell_type": "markdown",
   "metadata": {},
   "source": [
    "### DATA SEGREGATION\n",
    "\n",
    "\n",
    "We will now build the model. Since out problem is to predict whether a flight will be delayed or not, it is a binary classification problem, I choose:\n",
    "- a decision tree classification model\n",
    "- the random forest classification model\n",
    "- logistic regression model"
   ]
  },
  {
   "cell_type": "code",
   "execution_count": 16,
   "metadata": {},
   "outputs": [],
   "source": [
    "# create training and test set\n",
    "flights_train, flights_test = df.randomSplit([.8, .2], 5)"
   ]
  },
  {
   "cell_type": "markdown",
   "metadata": {},
   "source": [
    "### create the machine learning pipeline \n",
    "\n",
    "Step1 - Convert all the categorical data in the dataset into numerical data (since the underlying machine is more familiar with numbers than text) : For the flights dataset, we have three categorical columns: AIRLINE, ORIGINAL_AIRPORT and DESTINATION_AIRPORT. Therefore,we construct three StringIndexer objects.\n",
    "\n",
    "Step2 -  The OneHotEncoderEstimator object will convert all the categorical columns into their corresponding numerical columns with sparse vector representations(a sparse vector representation is a more efficient way to represent a vector if the majority of the vector column is zero values)\n",
    "\n",
    "Step 3 - the VectorAssembler will allow us to merge all the sparse vectors and other numerical values in the dataset into a single sparse vector, by concatenating them one by one and call this new vector \"features\"\n"
   ]
  },
  {
   "cell_type": "code",
   "execution_count": 17,
   "metadata": {},
   "outputs": [],
   "source": [
    "from pyspark.ml.feature import StringIndexer, OneHotEncoderEstimator\n",
    "from pyspark.ml.feature import VectorAssembler\n",
    "\n",
    "#Step 1\n",
    "airline_indexer=StringIndexer(inputCol='AIRLINE',outputCol='AIRLINE_index').setHandleInvalid(\"keep\")\n",
    "origin_indexer=StringIndexer(inputCol='ORIGIN_AIRPORT',outputCol='ORG_AIRPT_index').setHandleInvalid(\"keep\")\n",
    "destination_indexer =StringIndexer(inputCol='DESTINATION_AIRPORT', outputCol='DEST_AIRPT_index').setHandleInvalid(\"keep\")\n",
    "\n",
    "\n",
    "#Step 2\n",
    "onehot  = OneHotEncoderEstimator(inputCols=[airline_indexer.getOutputCol(), origin_indexer.getOutputCol(), destination_indexer.getOutputCol()],\\\n",
    "                                 outputCols=['airport_dummy', 'origin_dummy','destination_dummy'])\n",
    "\n",
    "#Step 3\n",
    "assembler = VectorAssembler(inputCols=['MONTH', 'DAY', 'DAY_OF_WEEK','airport_dummy', 'origin_dummy', 'destination_dummy','SCHEDULED_DEPARTURE','TAXI_OUT','DEPARTURE_DELAY', 'DISTANCE','SCHEDULED_ARRIVAL'],\\\n",
    "                            outputCol='features')"
   ]
  },
  {
   "cell_type": "code",
   "execution_count": 31,
   "metadata": {},
   "outputs": [
    {
     "name": "stdout",
     "output_type": "stream",
     "text": [
      "+----------+-----+--------------------+\n",
      "|prediction|label|            features|\n",
      "+----------+-----+--------------------+\n",
      "|       1.0|    1|(1276,[0,1,2,5,19...|\n",
      "|       1.0|    1|(1276,[0,1,2,5,21...|\n",
      "|       1.0|    1|(1276,[0,1,2,5,33...|\n",
      "|       0.0|    0|(1276,[0,1,2,5,23...|\n",
      "|       1.0|    1|(1276,[0,1,2,5,19...|\n",
      "+----------+-----+--------------------+\n",
      "only showing top 5 rows\n",
      "\n"
     ]
    }
   ],
   "source": [
    "#use of a Decision tree classifier\n",
    "from pyspark.ml.classification import DecisionTreeClassifier\n",
    "from pyspark.ml import Pipeline\n",
    "\n",
    "\n",
    "dt = DecisionTreeClassifier(labelCol='label',featuresCol='features')\n",
    "\n",
    "pipeline=Pipeline(stages=[airline_indexer,origin_indexer,destination_indexer,onehot,assembler,dt])\n",
    "\n",
    "model_dt=pipeline.fit(flights_train)\n",
    "\n",
    "prediction_dt = model_dt.transform(flights_test)\n",
    "\n",
    "prediction_dt.select(\"prediction\",\"label\",\"features\").show(5)"
   ]
  },
  {
   "cell_type": "code",
   "execution_count": 122,
   "metadata": {
    "scrolled": false
   },
   "outputs": [
    {
     "ename": "TypeError",
     "evalue": "__init__() got an unexpected keyword argument 'predictionCol'",
     "output_type": "error",
     "traceback": [
      "\u001b[0;31m---------------------------------------------------------------------------\u001b[0m",
      "\u001b[0;31mTypeError\u001b[0m                                 Traceback (most recent call last)",
      "\u001b[0;32m<ipython-input-122-0cb830449165>\u001b[0m in \u001b[0;36m<module>\u001b[0;34m\u001b[0m\n\u001b[1;32m      2\u001b[0m \u001b[0;34m\u001b[0m\u001b[0m\n\u001b[1;32m      3\u001b[0m evaluator = BinaryClassificationEvaluator(\n\u001b[0;32m----> 4\u001b[0;31m     labelCol=\"label\", predictionCol=\"prediction\", metricName=\"accuracy\")\n\u001b[0m\u001b[1;32m      5\u001b[0m \u001b[0maccuracy\u001b[0m \u001b[0;34m=\u001b[0m \u001b[0mevaluator\u001b[0m\u001b[0;34m.\u001b[0m\u001b[0mevaluate\u001b[0m\u001b[0;34m(\u001b[0m\u001b[0mprediction_dt\u001b[0m\u001b[0;34m)\u001b[0m\u001b[0;34m\u001b[0m\u001b[0;34m\u001b[0m\u001b[0m\n\u001b[1;32m      6\u001b[0m \u001b[0mprint\u001b[0m\u001b[0;34m(\u001b[0m\u001b[0;34m\"Test Error = %g \"\u001b[0m \u001b[0;34m%\u001b[0m \u001b[0;34m(\u001b[0m\u001b[0;36m1.0\u001b[0m \u001b[0;34m-\u001b[0m \u001b[0maccuracy\u001b[0m\u001b[0;34m)\u001b[0m\u001b[0;34m)\u001b[0m\u001b[0;34m\u001b[0m\u001b[0;34m\u001b[0m\u001b[0m\n",
      "\u001b[0;32m~/spark-2.3.4-bin-hadoop2.7/python/pyspark/__init__.py\u001b[0m in \u001b[0;36mwrapper\u001b[0;34m(self, *args, **kwargs)\u001b[0m\n\u001b[1;32m    103\u001b[0m             \u001b[0;32mraise\u001b[0m \u001b[0mTypeError\u001b[0m\u001b[0;34m(\u001b[0m\u001b[0;34m\"Method %s forces keyword arguments.\"\u001b[0m \u001b[0;34m%\u001b[0m \u001b[0mfunc\u001b[0m\u001b[0;34m.\u001b[0m\u001b[0m__name__\u001b[0m\u001b[0;34m)\u001b[0m\u001b[0;34m\u001b[0m\u001b[0;34m\u001b[0m\u001b[0m\n\u001b[1;32m    104\u001b[0m         \u001b[0mself\u001b[0m\u001b[0;34m.\u001b[0m\u001b[0m_input_kwargs\u001b[0m \u001b[0;34m=\u001b[0m \u001b[0mkwargs\u001b[0m\u001b[0;34m\u001b[0m\u001b[0;34m\u001b[0m\u001b[0m\n\u001b[0;32m--> 105\u001b[0;31m         \u001b[0;32mreturn\u001b[0m \u001b[0mfunc\u001b[0m\u001b[0;34m(\u001b[0m\u001b[0mself\u001b[0m\u001b[0;34m,\u001b[0m \u001b[0;34m**\u001b[0m\u001b[0mkwargs\u001b[0m\u001b[0;34m)\u001b[0m\u001b[0;34m\u001b[0m\u001b[0;34m\u001b[0m\u001b[0m\n\u001b[0m\u001b[1;32m    106\u001b[0m     \u001b[0;32mreturn\u001b[0m \u001b[0mwrapper\u001b[0m\u001b[0;34m\u001b[0m\u001b[0;34m\u001b[0m\u001b[0m\n\u001b[1;32m    107\u001b[0m \u001b[0;34m\u001b[0m\u001b[0m\n",
      "\u001b[0;31mTypeError\u001b[0m: __init__() got an unexpected keyword argument 'predictionCol'"
     ]
    }
   ],
   "source": [
    "from pyspark.ml.evaluation import MulticlassClassificationEvaluator\n",
    "\n",
    "evaluator = MulticlassClassificationEvaluator(\n",
    "    labelCol=\"label\", predictionCol=\"prediction\", metricName=\"accuracy\")\n",
    "accuracy = evaluator.evaluate(prediction_dt)\n",
    "print(\"Test Error = %g \" % (1.0 - accuracy))"
   ]
  },
  {
   "cell_type": "code",
   "execution_count": 20,
   "metadata": {},
   "outputs": [],
   "source": [
    "#use of a Random Forest Classifier\n",
    "\n",
    "from pyspark.ml.classification import RandomForestClassifier\n",
    "from pyspark.ml import Pipeline\n",
    "\n",
    "rf = RandomForestClassifier(labelCol='label',featuresCol='features',numTrees=30, maxDepth=30)\n",
    "\n",
    "pipeline=Pipeline(stages=[airline_indexer,origin_indexer,destination_indexer,onehot,assembler,rf])"
   ]
  },
  {
   "cell_type": "code",
   "execution_count": 21,
   "metadata": {},
   "outputs": [],
   "source": [
    "#use of Logistic Regression Model\n",
    "\n",
    "from pyspark.ml.classification import LogisticRegression\n",
    "from pyspark.ml import Pipeline\n",
    "lr = LogisticRegression(maxIter=30)\n",
    "pipeline = Pipeline(stages=[airline_indexer,origin_indexer,destination_indexer,onehot,assembler,lr])"
   ]
  },
  {
   "cell_type": "code",
   "execution_count": 24,
   "metadata": {},
   "outputs": [],
   "source": [
    "#During training, it is common practice to implement K-fold Cross-validation and Grid Search.\n",
    "#Code for the Random Forest Classifier:\n",
    "\n",
    "from pyspark.ml.tuning import CrossValidator, ParamGridBuilder\n",
    "param = ParamGridBuilder().build()\n",
    "\n",
    "from pyspark.ml.evaluation import BinaryClassificationEvaluator\n",
    "\n",
    "#initialize the evaluator\n",
    "evaluator = BinaryClassificationEvaluator()\n",
    "\n",
    "cv = CrossValidator(estimator = pipeline, estimatorParamMaps = param, evaluator = evaluator, numFolds = 5)\n",
    "\n",
    "\n",
    "#Code for the Logistic Regression CLassifier:\n",
    "#params = ParamGridBuilder()\n",
    "\n",
    "#regParam is the regularization coefficient which specifies that, in the range of 0.01 to 10, how much the model should be regularized.(the bigger the number, the more the model is regularized).\n",
    "#elasticNEtParam specifies the way the model is regularized, 0 means it's an L2 penalty and 1 means it's an L1 penalty. 0.5 means the penalty is a combination of both L1 and L2\n",
    "#params = params.addGrid(lr.regParam, [.01,.1,1,10]).addGrid(lr.elasticNetParam, [0, .5, 1])\n",
    "#params = params.build()\n",
    "#cv = CrossValidator(estimator = pipeline, estimatorParamMaps = params, evaluator = evaluator, numFolds = 5 )"
   ]
  },
  {
   "cell_type": "code",
   "execution_count": 25,
   "metadata": {},
   "outputs": [
    {
     "name": "stdout",
     "output_type": "stream",
     "text": [
      "AUC: 0.9677873817592777\n",
      "+-----+----------+------+\n",
      "|label|prediction| count|\n",
      "+-----+----------+------+\n",
      "|    1|       0.0| 20520|\n",
      "|    0|       0.0|190382|\n",
      "|    1|       1.0|184484|\n",
      "|    0|       1.0| 13918|\n",
      "+-----+----------+------+\n",
      "\n",
      "n precision: 0.930\n",
      "n recall: 0.900\n",
      "n accuracy: 0.916\n",
      "n F1 score: 0.915\n"
     ]
    }
   ],
   "source": [
    "#for a binary classification problem, it is common practice to evaluate the performance of the model by plotting the roc (Reciver Operating Characteristic) curce or calculating precision, recall, and F1-scores.\n",
    "\n",
    "#For randomForest classifier and logistic Regression model, we will use the following code to calculate the AUC (area under ROC curve), precesion and recall.\n",
    "\n",
    "\n",
    "#train the model\n",
    "cv =cv.fit(flights_train)\n",
    "\n",
    "#get the prediction\n",
    "prediction = cv.transform(flights_test)\n",
    "\n",
    "#calculate AUC\n",
    "\n",
    "auc = evaluator.evaluate(prediction, {evaluator.metricName:'areaUnderROC'})\n",
    "print(f'AUC: {auc}')\n",
    "\n",
    "#compute TN,TP,FN,FP\n",
    "prediction.groupBy('label','prediction').count().show()\n",
    "\n",
    "# Calculate the elements of the confusion matrix\n",
    "TN = prediction.filter('prediction = 0 AND label = prediction').count()\n",
    "TP = prediction.filter('prediction = 1 AND label = prediction').count()\n",
    "FN = prediction.filter('prediction = 0 AND label <> prediction').count()\n",
    "FP = prediction.filter('prediction = 1 AND label <> prediction').count()\n",
    "\n",
    "# calculate accuracy, precision, recall, and F1-score\n",
    "accuracy = (TN + TP) / (TN + TP + FN + FP)\n",
    "precision = TP / (TP + FP)\n",
    "recall = TP / (TP + FN)\n",
    "F =  2 * (precision*recall) / (precision + recall)\n",
    "\n",
    "print('n precision: %0.3f' % precision)\n",
    "print('n recall: %0.3f' % recall)\n",
    "print('n accuracy: %0.3f' % accuracy)\n",
    "print('n F1 score: %0.3f' % F)"
   ]
  },
  {
   "cell_type": "code",
   "execution_count": 28,
   "metadata": {},
   "outputs": [
    {
     "name": "stdout",
     "output_type": "stream",
     "text": [
      "+----------+-----+--------------------+\n",
      "|prediction|label|            features|\n",
      "+----------+-----+--------------------+\n",
      "|       1.0|    1|(1276,[0,1,2,5,19...|\n",
      "|       1.0|    1|(1276,[0,1,2,5,21...|\n",
      "|       1.0|    1|(1276,[0,1,2,5,33...|\n",
      "|       0.0|    0|(1276,[0,1,2,5,23...|\n",
      "|       1.0|    1|(1276,[0,1,2,5,19...|\n",
      "+----------+-----+--------------------+\n",
      "only showing top 5 rows\n",
      "\n",
      "Root Mean Squared Error (RMSE) on test data = 0.290065\n"
     ]
    }
   ],
   "source": [
    "from pyspark.ml.evaluation import RegressionEvaluator\n",
    "\n",
    "# Select example rows to display.\n",
    "prediction.select(\"prediction\", \"label\", \"features\").show(5)\n",
    "\n",
    "# Select (prediction, true label) and compute test error\n",
    "evaluator = RegressionEvaluator(\n",
    "    labelCol=\"label\", predictionCol=\"prediction\", metricName=\"rmse\")\n",
    "rmse = evaluator.evaluate(prediction)\n",
    "print(\"Root Mean Squared Error (RMSE) on test data = %g\" % rmse)"
   ]
  },
  {
   "cell_type": "code",
   "execution_count": null,
   "metadata": {},
   "outputs": [],
   "source": []
  }
 ],
 "metadata": {
  "kernelspec": {
   "display_name": "Python 3",
   "language": "python",
   "name": "python3"
  },
  "language_info": {
   "codemirror_mode": {
    "name": "ipython",
    "version": 3
   },
   "file_extension": ".py",
   "mimetype": "text/x-python",
   "name": "python",
   "nbconvert_exporter": "python",
   "pygments_lexer": "ipython3",
   "version": "3.7.3"
  }
 },
 "nbformat": 4,
 "nbformat_minor": 2
}
