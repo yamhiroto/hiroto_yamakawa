{
 "cells": [
  {
   "cell_type": "code",
   "execution_count": 31,
   "metadata": {},
   "outputs": [],
   "source": [
    "import pandas as pd\n",
    "import numpy as np\n",
    "import matplotlib.pyplot as plt\n",
    "from statsmodels.tsa.arima_model import ARIMA\n",
    "from statsmodels.tsa.arima_model import ARMA\n",
    "import statsmodels.graphics.tsaplots as tsaplot"
   ]
  },
  {
   "cell_type": "markdown",
   "metadata": {},
   "source": [
    "# TP N°12 : Séries Temporelles"
   ]
  },
  {
   "cell_type": "markdown",
   "metadata": {},
   "source": [
    "## Q1\n",
    "\n",
    "Importez les données du fichier Openhealth_S-Grippal.csv. Consultez http://www.openhealth.\n",
    "fr/suivi-epidemiologique-temps-reel/ias-incidence-des-syndromes-grippaux pour plus\n",
    "d’information sur les données. Affichez les 5 premières lignes du jeu de données. On va travailler\n",
    "seulement avec la variable IAS_brut, sous la forme d’une série temporelle, dont on précisera la\n",
    "fréquence d’échantillonage et les dates de début et de fin. Pour cette variable, dans ce jeu de don-\n",
    "nées, les cas de nullité correspondent à des données manquantes. Combiende données manquantes\n",
    "comporte-t-elle ? Pour les traitements des questions suivantes, éliminez les données manquantes par\n",
    "imputation, c’est-à-dire en déduisant une valeur plus “raisonnable” aux dates non-observées à partir\n",
    "des valeurs aux dates observées : par exemple par la moyenne de deux dates les plus proches."
   ]
  },
  {
   "cell_type": "markdown",
   "metadata": {},
   "source": []
  },
  {
   "cell_type": "code",
   "execution_count": 73,
   "metadata": {
    "scrolled": false
   },
   "outputs": [
    {
     "data": {
      "text/html": [
       "<div>\n",
       "<style scoped>\n",
       "    .dataframe tbody tr th:only-of-type {\n",
       "        vertical-align: middle;\n",
       "    }\n",
       "\n",
       "    .dataframe tbody tr th {\n",
       "        vertical-align: top;\n",
       "    }\n",
       "\n",
       "    .dataframe thead th {\n",
       "        text-align: right;\n",
       "    }\n",
       "</style>\n",
       "<table border=\"1\" class=\"dataframe\">\n",
       "  <thead>\n",
       "    <tr style=\"text-align: right;\">\n",
       "      <th></th>\n",
       "      <th>PERIODE</th>\n",
       "      <th>IAS_brut</th>\n",
       "      <th>IAS_lisse</th>\n",
       "      <th>Incidence_Sentinelles</th>\n",
       "    </tr>\n",
       "  </thead>\n",
       "  <tbody>\n",
       "    <tr>\n",
       "      <td>0</td>\n",
       "      <td>2009-07-01</td>\n",
       "      <td>1.7</td>\n",
       "      <td>2.2</td>\n",
       "      <td>2.3</td>\n",
       "    </tr>\n",
       "    <tr>\n",
       "      <td>1</td>\n",
       "      <td>2009-07-02</td>\n",
       "      <td>3.4</td>\n",
       "      <td>2.1</td>\n",
       "      <td>2.3</td>\n",
       "    </tr>\n",
       "    <tr>\n",
       "      <td>2</td>\n",
       "      <td>2009-07-03</td>\n",
       "      <td>2.1</td>\n",
       "      <td>2.1</td>\n",
       "      <td>2.3</td>\n",
       "    </tr>\n",
       "    <tr>\n",
       "      <td>3</td>\n",
       "      <td>2009-07-04</td>\n",
       "      <td>1.3</td>\n",
       "      <td>2.0</td>\n",
       "      <td>2.3</td>\n",
       "    </tr>\n",
       "    <tr>\n",
       "      <td>4</td>\n",
       "      <td>2009-07-05</td>\n",
       "      <td>14.2</td>\n",
       "      <td>2.0</td>\n",
       "      <td>2.3</td>\n",
       "    </tr>\n",
       "  </tbody>\n",
       "</table>\n",
       "</div>"
      ],
      "text/plain": [
       "      PERIODE  IAS_brut  IAS_lisse  Incidence_Sentinelles\n",
       "0  2009-07-01       1.7        2.2                    2.3\n",
       "1  2009-07-02       3.4        2.1                    2.3\n",
       "2  2009-07-03       2.1        2.1                    2.3\n",
       "3  2009-07-04       1.3        2.0                    2.3\n",
       "4  2009-07-05      14.2        2.0                    2.3"
      ]
     },
     "execution_count": 73,
     "metadata": {},
     "output_type": "execute_result"
    }
   ],
   "source": [
    "df = pd.read_csv(\"OpenhealthS-Grippal.csv\", sep = ';', infer_datetime_format = True, decimal=',')\n",
    "\n",
    "# 5 premières lignes du jeu de données\n",
    "df.head()"
   ]
  },
  {
   "cell_type": "code",
   "execution_count": 47,
   "metadata": {
    "scrolled": true
   },
   "outputs": [
    {
     "data": {
      "text/html": [
       "<div>\n",
       "<style scoped>\n",
       "    .dataframe tbody tr th:only-of-type {\n",
       "        vertical-align: middle;\n",
       "    }\n",
       "\n",
       "    .dataframe tbody tr th {\n",
       "        vertical-align: top;\n",
       "    }\n",
       "\n",
       "    .dataframe thead th {\n",
       "        text-align: right;\n",
       "    }\n",
       "</style>\n",
       "<table border=\"1\" class=\"dataframe\">\n",
       "  <thead>\n",
       "    <tr style=\"text-align: right;\">\n",
       "      <th></th>\n",
       "      <th>PERIODE</th>\n",
       "      <th>IAS_brut</th>\n",
       "      <th>IAS_lisse</th>\n",
       "      <th>Incidence_Sentinelles</th>\n",
       "    </tr>\n",
       "  </thead>\n",
       "  <tbody>\n",
       "    <tr>\n",
       "      <td>1747</td>\n",
       "      <td>2014-04-13</td>\n",
       "      <td>77.9</td>\n",
       "      <td>1.8</td>\n",
       "      <td>NaN</td>\n",
       "    </tr>\n",
       "    <tr>\n",
       "      <td>1748</td>\n",
       "      <td>2014-04-14</td>\n",
       "      <td>2.7</td>\n",
       "      <td>1.7</td>\n",
       "      <td>NaN</td>\n",
       "    </tr>\n",
       "    <tr>\n",
       "      <td>1749</td>\n",
       "      <td>2014-04-15</td>\n",
       "      <td>1.0</td>\n",
       "      <td>1.6</td>\n",
       "      <td>NaN</td>\n",
       "    </tr>\n",
       "    <tr>\n",
       "      <td>1750</td>\n",
       "      <td>2014-04-16</td>\n",
       "      <td>1.6</td>\n",
       "      <td>1.6</td>\n",
       "      <td>NaN</td>\n",
       "    </tr>\n",
       "    <tr>\n",
       "      <td>1751</td>\n",
       "      <td>2014-04-17</td>\n",
       "      <td>0.4</td>\n",
       "      <td>1.6</td>\n",
       "      <td>NaN</td>\n",
       "    </tr>\n",
       "  </tbody>\n",
       "</table>\n",
       "</div>"
      ],
      "text/plain": [
       "         PERIODE  IAS_brut  IAS_lisse  Incidence_Sentinelles\n",
       "1747  2014-04-13      77.9        1.8                    NaN\n",
       "1748  2014-04-14       2.7        1.7                    NaN\n",
       "1749  2014-04-15       1.0        1.6                    NaN\n",
       "1750  2014-04-16       1.6        1.6                    NaN\n",
       "1751  2014-04-17       0.4        1.6                    NaN"
      ]
     },
     "execution_count": 47,
     "metadata": {},
     "output_type": "execute_result"
    }
   ],
   "source": [
    "df.tail()"
   ]
  },
  {
   "cell_type": "markdown",
   "metadata": {},
   "source": [
    "**fréquence d'échantillonnage et dates de début et de fin**\n",
    "\n",
    "- la fréquence d'échantillonnage est de **1 échantillon par jour** , ou 1/(24*60*60) Hz pour rester en unité SI\n",
    "- **date de début** : 2009-07-01\n",
    "- **date de fin** : 2014-04-17\n"
   ]
  },
  {
   "cell_type": "code",
   "execution_count": 64,
   "metadata": {},
   "outputs": [
    {
     "data": {
      "text/plain": [
       "'Pour les traitements des questions suivantes, éliminez les données manquantes par\\nimputation, c’est-à-dire en déduisant une valeur plus “raisonnable” aux dates non-observées à partir\\ndes valeurs aux dates observées : par exemple par la moyenne de deux dates les plus proches.\\n'"
      ]
     },
     "execution_count": 64,
     "metadata": {},
     "output_type": "execute_result"
    }
   ],
   "source": [
    "# Données manquantes\n",
    "len(df[df[\"IAS_brut\"].isnull() == True])\n",
    "\n",
    "\"\"\"Pour les traitements des questions suivantes, éliminez les données manquantes par\n",
    "imputation, c’est-à-dire en déduisant une valeur plus “raisonnable” aux dates non-observées à partir\n",
    "des valeurs aux dates observées : par exemple par la moyenne de deux dates les plus proches.\n",
    "\"\"\""
   ]
  },
  {
   "cell_type": "code",
   "execution_count": 63,
   "metadata": {},
   "outputs": [
    {
     "data": {
      "text/plain": [
       "0"
      ]
     },
     "execution_count": 63,
     "metadata": {},
     "output_type": "execute_result"
    }
   ],
   "source": [
    "df[\"IAS_brut\"].isnull().sum()\n",
    "\n",
    "#df['IAS_brut'].interpolate() interpolation pour les valeurs manquantes\n"
   ]
  },
  {
   "cell_type": "code",
   "execution_count": null,
   "metadata": {},
   "outputs": [],
   "source": []
  },
  {
   "cell_type": "markdown",
   "metadata": {},
   "source": [
    "## Q2  \n",
    "Tracez la série temporelle considérée en fonction du temps. Commentez brièvement ce que vous observez."
   ]
  },
  {
   "cell_type": "code",
   "execution_count": 71,
   "metadata": {},
   "outputs": [
    {
     "data": {
      "text/plain": [
       "PERIODE                    int64\n",
       "IAS_brut                 float64\n",
       "IAS_lisse                float64\n",
       "Incidence_Sentinelles    float64\n",
       "dtype: object"
      ]
     },
     "execution_count": 71,
     "metadata": {},
     "output_type": "execute_result"
    }
   ],
   "source": [
    "df.dtypes"
   ]
  },
  {
   "cell_type": "code",
   "execution_count": 74,
   "metadata": {},
   "outputs": [],
   "source": [
    "\n",
    "df[\"PERIODE\"] = pd.to_datetime(df[\"PERIODE\"])"
   ]
  },
  {
   "cell_type": "code",
   "execution_count": 75,
   "metadata": {},
   "outputs": [
    {
     "data": {
      "text/plain": [
       "0      2009-07-01\n",
       "1      2009-07-02\n",
       "2      2009-07-03\n",
       "3      2009-07-04\n",
       "4      2009-07-05\n",
       "          ...    \n",
       "1747   2014-04-13\n",
       "1748   2014-04-14\n",
       "1749   2014-04-15\n",
       "1750   2014-04-16\n",
       "1751   2014-04-17\n",
       "Name: PERIODE, Length: 1752, dtype: datetime64[ns]"
      ]
     },
     "execution_count": 75,
     "metadata": {},
     "output_type": "execute_result"
    }
   ],
   "source": [
    "df[\"PERIODE\"]"
   ]
  },
  {
   "cell_type": "code",
   "execution_count": 80,
   "metadata": {},
   "outputs": [
    {
     "data": {
      "text/plain": [
       "<function matplotlib.pyplot.show(*args, **kw)>"
      ]
     },
     "execution_count": 80,
     "metadata": {},
     "output_type": "execute_result"
    },
    {
     "data": {
      "image/png": "[encoded data removed]",
      "text/plain": [
       "<Figure size 720x576 with 1 Axes>"
      ]
     },
     "metadata": {
      "needs_background": "light"
     },
     "output_type": "display_data"
    }
   ],
   "source": [
    "plt.figure(figsize = (10,8))\n",
    "xvals = df[\"PERIODE\"].to_numpy()\n",
    "yvals =  df[\"IAS_brut\"]\n",
    "plt.plot(xvals, yvals)\n",
    "plt.title (\"Série temporelle considérée en fonction du temps\")\n",
    "plt.show\n",
    "\n",
    "#plt.plot(df['PERIODE'].values, df['IAS_brut'].values)"
   ]
  },
  {
   "cell_type": "markdown",
   "metadata": {},
   "source": [
    "## Q3\n",
    "Tracez l’histogramme de la loi marginale. Quel impact la distribution observée par l’histogramme a sur la trajectoire représentée à la question précédente ?"
   ]
  },
  {
   "cell_type": "code",
   "execution_count": null,
   "metadata": {},
   "outputs": [],
   "source": [
    "plt.figure(figsize=(10,8))\n",
    "plt.hist(df['IAS_brut'], bins=50)\n",
    "plt.title(\"Histogramme de la loi marginale\")\n",
    "plt.show()"
   ]
  },
  {
   "cell_type": "markdown",
   "metadata": {},
   "source": [
    "## Q4\n",
    "Reprenez les questions précédentes après tranformations des observations par le logarithme naturel. Commentez."
   ]
  },
  {
   "cell_type": "code",
   "execution_count": null,
   "metadata": {},
   "outputs": [],
   "source": [
    "np.log(df['IAS_brut'])\n",
    "#série temporelle considérée en fonction du temps\n",
    "\n",
    "\n",
    "#histogramme de la loi marginale"
   ]
  },
  {
   "cell_type": "markdown",
   "metadata": {},
   "source": [
    "## Q5\n",
    "En utilisant **signal.perodogram()** (du package signal importé depuis scipy), tracez le périodo-\n",
    "gramme des données. Expliquez les pics les plus significatifs que vous observez. Attention au fait\n",
    "que dans la communauté signal les spectres sont normalisées pour des fréquences absolues dans\n",
    "[−1/2, 1/2] plutôt que [−π, −π]."
   ]
  },
  {
   "cell_type": "code",
   "execution_count": null,
   "metadata": {},
   "outputs": [],
   "source": [
    "f, Pxx_den = signal.periodogram(np.log(df['IAS_brut']))\n",
    "plt.semilogy(f, Pxx_den)"
   ]
  },
  {
   "cell_type": "markdown",
   "metadata": {},
   "source": [
    "## Q6\n",
    "Pour supprimer une tendance périodique de période T dans un signal $(x_t)_{t \\in Z}$ il suffit d’appliquer\n",
    "le filtre $∆_T$ défini par\n",
    "$$ [∆_T x] t = x_t − x_{t−T} $$\n",
    "Utilisez cette méthode pour supprimer la tendance périodique de période 1 an. Quel pic du pério-\n",
    "dogramme cette méthode a fait disparaître ?"
   ]
  },
  {
   "cell_type": "code",
   "execution_count": 86,
   "metadata": {},
   "outputs": [
    {
     "ename": "KeyError",
     "evalue": "range(0, 1751)",
     "output_type": "error",
     "traceback": [
      "\u001b[0;31m---------------------------------------------------------------------------\u001b[0m",
      "\u001b[0;31mKeyError\u001b[0m                                  Traceback (most recent call last)",
      "\u001b[0;32m<ipython-input-86-8be8e4ec9771>\u001b[0m in \u001b[0;36m<module>\u001b[0;34m\u001b[0m\n\u001b[1;32m      3\u001b[0m \u001b[0;34m\u001b[0m\u001b[0m\n\u001b[1;32m      4\u001b[0m \u001b[0;32mfor\u001b[0m \u001b[0mi\u001b[0m \u001b[0;32min\u001b[0m \u001b[0;34m(\u001b[0m\u001b[0;36m365\u001b[0m\u001b[0;34m,\u001b[0m \u001b[0mrange\u001b[0m\u001b[0;34m(\u001b[0m\u001b[0mlen\u001b[0m\u001b[0;34m(\u001b[0m\u001b[0mdf\u001b[0m\u001b[0;34m)\u001b[0m\u001b[0;34m-\u001b[0m\u001b[0;36m1\u001b[0m\u001b[0;34m)\u001b[0m\u001b[0;34m)\u001b[0m\u001b[0;34m:\u001b[0m\u001b[0;34m\u001b[0m\u001b[0;34m\u001b[0m\u001b[0m\n\u001b[0;32m----> 5\u001b[0;31m     \u001b[0mdelta_T\u001b[0m \u001b[0;34m=\u001b[0m \u001b[0mdf\u001b[0m\u001b[0;34m[\u001b[0m\u001b[0;34m'IAS_brut'\u001b[0m\u001b[0;34m]\u001b[0m\u001b[0;34m[\u001b[0m\u001b[0mi\u001b[0m\u001b[0;34m]\u001b[0m \u001b[0;34m-\u001b[0m \u001b[0mdf\u001b[0m\u001b[0;34m[\u001b[0m\u001b[0;34m'IAS_brut'\u001b[0m\u001b[0;34m]\u001b[0m\u001b[0;34m[\u001b[0m\u001b[0mi\u001b[0m\u001b[0;34m-\u001b[0m\u001b[0mT\u001b[0m\u001b[0;34m]\u001b[0m\u001b[0;34m\u001b[0m\u001b[0;34m\u001b[0m\u001b[0m\n\u001b[0m\u001b[1;32m      6\u001b[0m     \u001b[0mperiodogramme\u001b[0m\u001b[0;34m.\u001b[0m\u001b[0mappend\u001b[0m\u001b[0;34m(\u001b[0m\u001b[0mdelta_T\u001b[0m\u001b[0;34m)\u001b[0m\u001b[0;34m\u001b[0m\u001b[0;34m\u001b[0m\u001b[0m\n",
      "\u001b[0;32m~/anaconda3/lib/python3.7/site-packages/pandas/core/series.py\u001b[0m in \u001b[0;36m__getitem__\u001b[0;34m(self, key)\u001b[0m\n\u001b[1;32m   1066\u001b[0m         \u001b[0mkey\u001b[0m \u001b[0;34m=\u001b[0m \u001b[0mcom\u001b[0m\u001b[0;34m.\u001b[0m\u001b[0mapply_if_callable\u001b[0m\u001b[0;34m(\u001b[0m\u001b[0mkey\u001b[0m\u001b[0;34m,\u001b[0m \u001b[0mself\u001b[0m\u001b[0;34m)\u001b[0m\u001b[0;34m\u001b[0m\u001b[0;34m\u001b[0m\u001b[0m\n\u001b[1;32m   1067\u001b[0m         \u001b[0;32mtry\u001b[0m\u001b[0;34m:\u001b[0m\u001b[0;34m\u001b[0m\u001b[0;34m\u001b[0m\u001b[0m\n\u001b[0;32m-> 1068\u001b[0;31m             \u001b[0mresult\u001b[0m \u001b[0;34m=\u001b[0m \u001b[0mself\u001b[0m\u001b[0;34m.\u001b[0m\u001b[0mindex\u001b[0m\u001b[0;34m.\u001b[0m\u001b[0mget_value\u001b[0m\u001b[0;34m(\u001b[0m\u001b[0mself\u001b[0m\u001b[0;34m,\u001b[0m \u001b[0mkey\u001b[0m\u001b[0;34m)\u001b[0m\u001b[0;34m\u001b[0m\u001b[0;34m\u001b[0m\u001b[0m\n\u001b[0m\u001b[1;32m   1069\u001b[0m \u001b[0;34m\u001b[0m\u001b[0m\n\u001b[1;32m   1070\u001b[0m             \u001b[0;32mif\u001b[0m \u001b[0;32mnot\u001b[0m \u001b[0mis_scalar\u001b[0m\u001b[0;34m(\u001b[0m\u001b[0mresult\u001b[0m\u001b[0;34m)\u001b[0m\u001b[0;34m:\u001b[0m\u001b[0;34m\u001b[0m\u001b[0;34m\u001b[0m\u001b[0m\n",
      "\u001b[0;32m~/anaconda3/lib/python3.7/site-packages/pandas/core/indexes/base.py\u001b[0m in \u001b[0;36mget_value\u001b[0;34m(self, series, key)\u001b[0m\n\u001b[1;32m   4728\u001b[0m         \u001b[0mk\u001b[0m \u001b[0;34m=\u001b[0m \u001b[0mself\u001b[0m\u001b[0;34m.\u001b[0m\u001b[0m_convert_scalar_indexer\u001b[0m\u001b[0;34m(\u001b[0m\u001b[0mk\u001b[0m\u001b[0;34m,\u001b[0m \u001b[0mkind\u001b[0m\u001b[0;34m=\u001b[0m\u001b[0;34m\"getitem\"\u001b[0m\u001b[0;34m)\u001b[0m\u001b[0;34m\u001b[0m\u001b[0;34m\u001b[0m\u001b[0m\n\u001b[1;32m   4729\u001b[0m         \u001b[0;32mtry\u001b[0m\u001b[0;34m:\u001b[0m\u001b[0;34m\u001b[0m\u001b[0;34m\u001b[0m\u001b[0m\n\u001b[0;32m-> 4730\u001b[0;31m             \u001b[0;32mreturn\u001b[0m \u001b[0mself\u001b[0m\u001b[0;34m.\u001b[0m\u001b[0m_engine\u001b[0m\u001b[0;34m.\u001b[0m\u001b[0mget_value\u001b[0m\u001b[0;34m(\u001b[0m\u001b[0ms\u001b[0m\u001b[0;34m,\u001b[0m \u001b[0mk\u001b[0m\u001b[0;34m,\u001b[0m \u001b[0mtz\u001b[0m\u001b[0;34m=\u001b[0m\u001b[0mgetattr\u001b[0m\u001b[0;34m(\u001b[0m\u001b[0mseries\u001b[0m\u001b[0;34m.\u001b[0m\u001b[0mdtype\u001b[0m\u001b[0;34m,\u001b[0m \u001b[0;34m\"tz\"\u001b[0m\u001b[0;34m,\u001b[0m \u001b[0;32mNone\u001b[0m\u001b[0;34m)\u001b[0m\u001b[0;34m)\u001b[0m\u001b[0;34m\u001b[0m\u001b[0;34m\u001b[0m\u001b[0m\n\u001b[0m\u001b[1;32m   4731\u001b[0m         \u001b[0;32mexcept\u001b[0m \u001b[0mKeyError\u001b[0m \u001b[0;32mas\u001b[0m \u001b[0me1\u001b[0m\u001b[0;34m:\u001b[0m\u001b[0;34m\u001b[0m\u001b[0;34m\u001b[0m\u001b[0m\n\u001b[1;32m   4732\u001b[0m             \u001b[0;32mif\u001b[0m \u001b[0mlen\u001b[0m\u001b[0;34m(\u001b[0m\u001b[0mself\u001b[0m\u001b[0;34m)\u001b[0m \u001b[0;34m>\u001b[0m \u001b[0;36m0\u001b[0m \u001b[0;32mand\u001b[0m \u001b[0;34m(\u001b[0m\u001b[0mself\u001b[0m\u001b[0;34m.\u001b[0m\u001b[0mholds_integer\u001b[0m\u001b[0;34m(\u001b[0m\u001b[0;34m)\u001b[0m \u001b[0;32mor\u001b[0m \u001b[0mself\u001b[0m\u001b[0;34m.\u001b[0m\u001b[0mis_boolean\u001b[0m\u001b[0;34m(\u001b[0m\u001b[0;34m)\u001b[0m\u001b[0;34m)\u001b[0m\u001b[0;34m:\u001b[0m\u001b[0;34m\u001b[0m\u001b[0;34m\u001b[0m\u001b[0m\n",
      "\u001b[0;32mpandas/_libs/index.pyx\u001b[0m in \u001b[0;36mpandas._libs.index.IndexEngine.get_value\u001b[0;34m()\u001b[0m\n",
      "\u001b[0;32mpandas/_libs/index.pyx\u001b[0m in \u001b[0;36mpandas._libs.index.IndexEngine.get_value\u001b[0;34m()\u001b[0m\n",
      "\u001b[0;32mpandas/_libs/index.pyx\u001b[0m in \u001b[0;36mpandas._libs.index.IndexEngine.get_loc\u001b[0;34m()\u001b[0m\n",
      "\u001b[0;32mpandas/_libs/index_class_helper.pxi\u001b[0m in \u001b[0;36mpandas._libs.index.Int64Engine._check_type\u001b[0;34m()\u001b[0m\n",
      "\u001b[0;31mKeyError\u001b[0m: range(0, 1751)"
     ]
    }
   ],
   "source": [
    "periodogramme = []\n",
    "T=365 # periode\n",
    "\n",
    "for i in (365, range(len(df)-1)):\n",
    "    delta_T = df['IAS_brut'][i] - df['IAS_brut'][i-T] \n",
    "    periodogramme.append(delta_T)"
   ]
  },
  {
   "cell_type": "code",
   "execution_count": 85,
   "metadata": {},
   "outputs": [
    {
     "data": {
      "text/plain": [
       "[-0.7, -2.7]"
      ]
     },
     "execution_count": 85,
     "metadata": {},
     "output_type": "execute_result"
    }
   ],
   "source": [
    "periodogramme"
   ]
  },
  {
   "cell_type": "code",
   "execution_count": null,
   "metadata": {},
   "outputs": [],
   "source": [
    "plt.plot(periodogramme)"
   ]
  },
  {
   "cell_type": "code",
   "execution_count": 83,
   "metadata": {
    "scrolled": true
   },
   "outputs": [
    {
     "data": {
      "text/plain": [
       "0.0"
      ]
     },
     "execution_count": 83,
     "metadata": {},
     "output_type": "execute_result"
    }
   ],
   "source": [
    "df['IAS_brut'][360] -df['IAS_brut'][365-5] "
   ]
  },
  {
   "cell_type": "code",
   "execution_count": null,
   "metadata": {},
   "outputs": [],
   "source": []
  },
  {
   "cell_type": "markdown",
   "metadata": {},
   "source": [
    "## Q7\n",
    "On vous propose un exercise de prédiction uniquement à partir de la tendance périodique. On va\n",
    "prédire les valeurs de IAS_brut pour les dates du 1er avril 2013 au 17 avril 2014 en se basant\n",
    "sur les observations précédentes (du 1er juillet 2009 au 31 mars 2013) pour estimer la tendance\n",
    "périodique des données. Pour cela, pour un nombre d’harmoniques fixé (disons n_harm), construisez\n",
    "les variables explicatives pour la période d’apprentissage : pour chaque k = 1, 2, ... n_harm, ajoutez deux variables explicatives, x i,2k−1 = cos(t i · k · 2π\n",
    "T ) et x i,2k = sin(t i · k · T ), où t i est le moment\n",
    "de temps (on peut utiliser les nombres entiers au lieu de dates) et T = 365. Estimez la tendance\n",
    "périodique en régressant les données d’apprentissage sur ces variables explicatives.\n",
    "\n",
    "Avec ce modèle linéaire, prédisez les valeurs du variable IAS_brut pour la période du 1er avril 2013\n",
    "au 17 avril 2014.\n",
    "Tracez les valeur de la série temporelle et votre prédiction pour l’ensemble de données (vous pouvez\n",
    "utilisez les couleurs différentes pour pour les partie apprentissage et prédiction). Puis, donnez le\n",
    "risque quadratique de la prédiction et tracez les résidus pour la période prédite.\n",
    "Essayez les valeur de n_harm pour voir comment varie le risque quadratique de la prédiction."
   ]
  },
  {
   "cell_type": "code",
   "execution_count": null,
   "metadata": {},
   "outputs": [],
   "source": [
    "n_harm\n",
    "\n",
    "for k in range(1, n_harm) :\n",
    "    df['add_cos' + str(k)] = np.cos(df['index'] * k * 2 * math.pi / 365)\n",
    "    #df['add_sin' + str(k)] = np.sin(df['index'] * k * 2 * math.pi / 365)\n",
    "\n",
    "#df_train = df[df['PERIODE'] < \"2013-03-31\"].drop(['IAS_lissé', 'Incidence_Sentinelles'], adfis=1)\n",
    "#df_test = df[df['PERIODE'] >= \"2013-03-31\"].drop(['IAS_lissé', 'Incidence_Sentinelles'], adfis=1)\n",
    "\n",
    "#y_train = X_train['IAS_brut']\n",
    "#X_train = X_train.drop(['IAS_brut', 'PERIODE'], axis=1)\n",
    "\n",
    "OLS(y_train, X_train).fit()\n",
    "\n",
    "y_test = X_test['IAS_brut']\n",
    "\n",
    "\n",
    "risque_quadratique = sum((ytest-ypred)**2)\n",
    "residus = ytest-ypred"
   ]
  },
  {
   "cell_type": "code",
   "execution_count": null,
   "metadata": {},
   "outputs": [],
   "source": [
    "# Données \"Trafic Internet\""
   ]
  },
  {
   "cell_type": "markdown",
   "metadata": {},
   "source": [
    "## Q8\n",
    "Importez les données du fichier lbl-tcp-3.tcp. Chaque ligne du tableau correspond à un paquet\n",
    "et la première variable et le moment de sa transmission ; consultez http://ita.ee.lbl.gov/html/\n",
    "contrib/LBL-TCP-3.html pour plus d’information sur les données. Affichez 5 premières lignes du\n",
    "jeu de données.\n",
    "Tout d’abord, créez la série temporelle, où chaque observation correspond au nombre de paquets\n",
    "transmis dans un intervalle de 10 secondes. Il y a 720 intervalles, donc vous devez obtenir 720\n",
    "observations.\n",
    "Tracez la série temporelle obtenue."
   ]
  },
  {
   "cell_type": "code",
   "execution_count": null,
   "metadata": {},
   "outputs": [],
   "source": [
    "col_names = [\"timestamp\", \"sourceHost\", \"destinationHost\", \"sourceTCPPort\", \"destinationTCPPort\", \"bytes\"]"
   ]
  },
  {
   "cell_type": "code",
   "execution_count": null,
   "metadata": {},
   "outputs": [],
   "source": []
  },
  {
   "cell_type": "markdown",
   "metadata": {},
   "source": [
    "## Q9\n",
    "Dans cette question on vous propose de construire un modèle auto-régressif AR(p). L’apprentissage\n",
    "du modèle ne demande pas beaucoup de temps et s’effectue avec 1 − 2 ligne de code à l’aide\n",
    "de la fonction ARIMA() importée de statsmodels.tsa.arima_model. Le choix du paramètre p\n",
    "(d’une gamme de valeur prédéfinies, disons de 1 à p max ) est moins simple. On va aborder trois\n",
    "possibilité : critère d’information d’Akaike (AIC), critère d’information bayésien (BIC) et validation\n",
    "croisée/backtesting.\n",
    "Le critères d’information AIC et BIC sont normalement implémentés dans le logiciel et sont donnés\n",
    "directement après l’apprentissage du modèle. Pour faire la validation croisée pour une série, on la\n",
    "coupe en n chunks chunks/folds et chaque foi utilise k premiers chunks pour entrainer le modèle et\n",
    "le chunk numéro k + 1 pour le tester (par exemple regarder le risque quadratique) ; voir le dessin\n",
    "ci-dessous.\n",
    "Pour une gamme de valeur choisie, effectue les trois méthodes de la sélection du modèle."
   ]
  },
  {
   "attachments": {
    "Screenshot%20from%202020-01-14%2022-28-00.png": {
     "image/png": "[encoded data removed]"
    }
   },
   "cell_type": "markdown",
   "metadata": {},
   "source": [
    "![Screenshot%20from%202020-01-14%2022-28-00.png](attachment:Screenshot%20from%202020-01-14%2022-28-00.png)"
   ]
  },
  {
   "cell_type": "code",
   "execution_count": null,
   "metadata": {},
   "outputs": [],
   "source": [
    "df = df.set_index('time')\n",
    "\n",
    "\n",
    "arima = ARIMA(df.loc[:500], order=(10,0,0))\n",
    "arima = arima.fit()\n",
    "#print(arima.summary())\n",
    "\n",
    "# plot residual errors\n",
    "residuals = pd.DataFrame(arima.resid)\n",
    "residuals.plot()\n",
    "plt.show()\n",
    "\n",
    "residuals.plot(kind='kde')\n",
    "plt.show()\n",
    "\n",
    "print(residuals.describe())"
   ]
  },
  {
   "cell_type": "code",
   "execution_count": null,
   "metadata": {},
   "outputs": [],
   "source": [
    "plt.figure(figsize=(12,6))\n",
    "plt.plot(df.loc[:500], label=\"Train\")\n",
    "plt.plot(df.loc[500:], label=\"Test\")\n",
    "plt.plot(arima.predict(start=500, end=700),label=\"Pred\")\n",
    "plt.legend()\n",
    "plt.show()"
   ]
  },
  {
   "cell_type": "code",
   "execution_count": null,
   "metadata": {},
   "outputs": [],
   "source": [
    "\n",
    "k = 0\n",
    "mse_t = []\n",
    "tot = len(df)\n",
    "for i in range(1,number) :\n",
    "    k = k + int(tot/number)\n",
    "    model = ARIMA(df.loc[:k], order=(5,0,0))\n",
    "    model_fit = model.fit()\n",
    "    pred = model_fit.predict(start=k, end=tot)\n",
    "    mse_t.append(mean_squared_error(pred, df.loc[k-1:]))"
   ]
  },
  {
   "cell_type": "markdown",
   "metadata": {},
   "source": [
    "## Q10\n",
    "En ce basant sur les résultats de la question précédente, sélectionnez l’ordre p du modèle AR à\n",
    "estimer et affichez les paramètres correspondants.\n",
    "Tracez les résidus. Tracez l’estimation de la densité de résidus et la densité de la distribution\n",
    "normale (avec moyenne et écart-type estimés) sur le même graphique et comparez les visuellement.\n",
    "Commentez."
   ]
  },
  {
   "cell_type": "code",
   "execution_count": null,
   "metadata": {},
   "outputs": [],
   "source": [
    "\n",
    "arima = ARIMA(df.loc[:500], order=(10,0,0))\n",
    "arima = arima.fit()\n",
    "\n",
    "# plot residual errors\n",
    "residuals = pd.DataFrame(arima.resid)\n",
    "plt.figure(figsize=(12,6))\n",
    "plt.plot(residuals)\n",
    "plt.show()\n",
    "\n",
    "\n",
    "h = residuals.sort_values(0)\n",
    "fit = stats.norm.pdf(h, np.mean(h), np.std(h))\n",
    "residuals.plot(kind='kde')\n",
    "plt.plot(h,fit,'-o')\n",
    "plt.show()"
   ]
  },
  {
   "cell_type": "markdown",
   "metadata": {},
   "source": [
    "# - Données “Southern oscillation index” -"
   ]
  },
  {
   "cell_type": "markdown",
   "metadata": {},
   "source": [
    "## Q11\n",
    "Importez les données du fichier soi.tsv. Consultez http://www.bom.gov.au/climate/glossary/\n",
    "soi.shtml pour plus d’information sur les données. Supprimez les données manquantes."
   ]
  },
  {
   "cell_type": "code",
   "execution_count": null,
   "metadata": {},
   "outputs": [],
   "source": [
    "df = pd.read_csv(\"soi.tsv\", delimiter=\"\\t\", header=None).T\n",
    "\n",
    "#df.dropna()\n"
   ]
  },
  {
   "cell_type": "markdown",
   "metadata": {},
   "source": [
    "## Q12\n",
    "A l’aide des fonctions plot_acf() et plot_pacf() importées de statsmodels.graphics.tsaplots,\n",
    "tracez la fonction d’autocorrélation et la fonction d’autocorrélation partielle."
   ]
  },
  {
   "cell_type": "code",
   "execution_count": null,
   "metadata": {},
   "outputs": [],
   "source": [
    "tsa.plot_acf(df);\n",
    "tsa.plot_pacf(df);"
   ]
  },
  {
   "cell_type": "markdown",
   "metadata": {},
   "source": [
    "## Q13\n",
    "En ce basant sur la question précédente, choisissez l’ordre du processus auto-régressive AR(p).\n",
    "Entrainer le modèle AR choisi. Tracez les résidus. Tracez l’estimation de la densité de résidus et la\n",
    "densité de la distribution normale (avec moyenne et écart-type estimés) sur le même graphique et\n",
    "comparez les visuellement. Commentez."
   ]
  },
  {
   "cell_type": "code",
   "execution_count": null,
   "metadata": {},
   "outputs": [],
   "source": [
    "#autocorrelation partielle significative jusque ordre 11\n",
    "\n",
    "model = ARMA(df, order=(11,0))\n",
    "result = model.fit()\n",
    "\n",
    "# plot residual errors\n",
    "residuals = pd.DataFrame(result.resid)\n",
    "residuals.plot()\n",
    "\n",
    "h = residuals.sort_values(0)\n",
    "fit = stats.norm.pdf(h, np.mean(h), np.std(h))\n",
    "\n",
    "residuals.plot(kind='kde')\n",
    "plt.plot(h,fit,'-o')\n",
    "plt.show()"
   ]
  },
  {
   "cell_type": "markdown",
   "metadata": {},
   "source": [
    "## Q14"
   ]
  },
  {
   "cell_type": "code",
   "execution_count": null,
   "metadata": {},
   "outputs": [],
   "source": [
    "plt.figure(figsize=(12,6))\n",
    "f, Pxx_den = signal.periodogram(df[0])\n",
    "plt.semilogy(f, Pxx_den)\n",
    "plt.xlim([1e-10, 0.5])\n",
    "plt.ylim([1e-3, 1e+2])\n",
    "plt.show()"
   ]
  }
 ],
 "metadata": {
  "kernelspec": {
   "display_name": "Python 3",
   "language": "python",
   "name": "python3"
  },
  "language_info": {
   "codemirror_mode": {
    "name": "ipython",
    "version": 3
   },
   "file_extension": ".py",
   "mimetype": "text/x-python",
   "name": "python",
   "nbconvert_exporter": "python",
   "pygments_lexer": "ipython3",
   "version": "3.7.3"
  }
 },
 "nbformat": 4,
 "nbformat_minor": 2
}
